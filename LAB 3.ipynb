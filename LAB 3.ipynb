{
 "cells": [
  {
   "cell_type": "code",
   "execution_count": 32,
   "id": "1815c4ce-a171-4dd3-b08d-da34efa30840",
   "metadata": {},
   "outputs": [
    {
     "name": "stdin",
     "output_type": "stream",
     "text": [
      "Enter an integer 8\n"
     ]
    },
    {
     "name": "stdout",
     "output_type": "stream",
     "text": [
      "1\n",
      "4\n",
      "9\n",
      "16\n",
      "25\n",
      "36\n",
      "49\n",
      "64\n"
     ]
    }
   ],
   "source": [
    "# Write a python script to find the squares of first n natural numbers.\n",
    "n = int(input(\"Enter an integer\"))\n",
    "i = 1\n",
    "while(i<=n):\n",
    "    print(i**2)\n",
    "    i+=1"
   ]
  },
  {
   "cell_type": "code",
   "execution_count": 12,
   "id": "cab90eb0-4140-4e29-b392-9c47bee6f2a9",
   "metadata": {},
   "outputs": [
    {
     "name": "stdin",
     "output_type": "stream",
     "text": [
      " 89\n"
     ]
    },
    {
     "name": "stdout",
     "output_type": "stream",
     "text": [
      "The Number: 89 has the digit sum = 17\n"
     ]
    }
   ],
   "source": [
    "# Write a python script to find the sum of the digits of the given number using a while loop. Display the number and the sum.\n",
    "n = int(input())\n",
    "x = n\n",
    "sum = 0\n",
    "while(n>0):\n",
    "    sum += n%10\n",
    "    n = n//10\n",
    "print(f\"The Number: {x} has the digit sum = {sum}\")"
   ]
  },
  {
   "cell_type": "code",
   "execution_count": 20,
   "id": "213f2ec9-c8f9-4208-90c3-ba1da3d9b8cd",
   "metadata": {},
   "outputs": [
    {
     "name": "stdin",
     "output_type": "stream",
     "text": [
      " 9\n"
     ]
    },
    {
     "name": "stdout",
     "output_type": "stream",
     "text": [
      "0\n",
      "1\n",
      "1\n",
      "2\n",
      "3\n",
      "5\n",
      "8\n",
      "13\n",
      "21\n"
     ]
    }
   ],
   "source": [
    "# Write a python script to print the first n terms of the Fibonacci series using while loop\n",
    "n = int(input())\n",
    "sum1 = 0\n",
    "sum2 = 1\n",
    "print(sum1)\n",
    "while(n>=2):\n",
    "    print(sum2)\n",
    "    x = sum1\n",
    "    sum1 = sum2\n",
    "    sum2 += x\n",
    "    n-=1"
   ]
  },
  {
   "cell_type": "code",
   "execution_count": 22,
   "id": "50a8c91b-e800-4335-b822-d23cdae37095",
   "metadata": {},
   "outputs": [
    {
     "name": "stdin",
     "output_type": "stream",
     "text": [
      "Enter the number 5\n",
      "Enter the limit 10\n"
     ]
    },
    {
     "name": "stdout",
     "output_type": "stream",
     "text": [
      "5 x 1 = 5\n",
      "5 x 2 = 10\n",
      "5 x 3 = 15\n",
      "5 x 4 = 20\n",
      "5 x 5 = 25\n",
      "5 x 6 = 30\n",
      "5 x 7 = 35\n",
      "5 x 8 = 40\n",
      "5 x 9 = 45\n",
      "5 x 10 = 50\n"
     ]
    }
   ],
   "source": [
    "# Write a python script to print the multiplication table of a given number up to the specified limit using a for loop.\n",
    "n = int(input(\"Enter the number\"))\n",
    "m = int(input(\"Enter the limit\"))\n",
    "for i in range(1, m+1):\n",
    "    print(f\"{n} x {i} = {n*i}\")"
   ]
  },
  {
   "cell_type": "code",
   "execution_count": 28,
   "id": "57fcc51e-43e1-4a70-a9fc-6aabb4390046",
   "metadata": {},
   "outputs": [
    {
     "name": "stdin",
     "output_type": "stream",
     "text": [
      "Enter the string Hello\n"
     ]
    },
    {
     "name": "stdout",
     "output_type": "stream",
     "text": [
      "True\n"
     ]
    }
   ],
   "source": [
    "# Write a python script to check whether all the characters present in a string are alphanumeric (uppercase letters, lowercase letters or digits) using for  with else\n",
    "str = input(\"Enter the string\")\n",
    "for char in str:\n",
    "    if not char.isalnum():\n",
    "        print(False)\n",
    "        break\n",
    "else:\n",
    "    print(True)"
   ]
  },
  {
   "cell_type": "code",
   "execution_count": 30,
   "id": "8a002171-a78d-42ce-8722-423ff477b157",
   "metadata": {},
   "outputs": [
    {
     "name": "stdin",
     "output_type": "stream",
     "text": [
      "Enter the string radha\n",
      "Enter the character a\n"
     ]
    },
    {
     "name": "stdout",
     "output_type": "stream",
     "text": [
      "Nmber of occurences of a in radha are 2\n"
     ]
    }
   ],
   "source": [
    "# Write a python script to find the number of occurrences of a particular character present in the given string using a loop.\n",
    "str = input(\"Enter the string\")\n",
    "x = input(\"Enter the character\")\n",
    "num = 0\n",
    "for char in str:\n",
    "    if char == x:\n",
    "        num+=1\n",
    "\n",
    "print(f\"Nmber of occurences of {x} in {str} are {num}\")"
   ]
  },
  {
   "cell_type": "code",
   "execution_count": null,
   "id": "8f95f6a1-77f3-45b0-80c4-b68bd3ea7bc9",
   "metadata": {},
   "outputs": [],
   "source": []
  }
 ],
 "metadata": {
  "kernelspec": {
   "display_name": "Python 3 (ipykernel)",
   "language": "python",
   "name": "python3"
  },
  "language_info": {
   "codemirror_mode": {
    "name": "ipython",
    "version": 3
   },
   "file_extension": ".py",
   "mimetype": "text/x-python",
   "name": "python",
   "nbconvert_exporter": "python",
   "pygments_lexer": "ipython3",
   "version": "3.12.4"
  }
 },
 "nbformat": 4,
 "nbformat_minor": 5
}
