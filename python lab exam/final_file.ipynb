{
 "cells": [
  {
   "cell_type": "code",
   "execution_count": 1,
   "metadata": {},
   "outputs": [],
   "source": [
    "import pandas as pd"
   ]
  },
  {
   "cell_type": "code",
   "execution_count": 7,
   "metadata": {},
   "outputs": [],
   "source": [
    "df = pd.read_csv('AQI_Data.csv')"
   ]
  },
  {
   "cell_type": "code",
   "execution_count": 8,
   "metadata": {},
   "outputs": [
    {
     "name": "stdout",
     "output_type": "stream",
     "text": [
      "first 5 rows\n",
      "    City        Date  AQI  PM2.5  PM10        NO2        CO          O3  \\\n",
      "0  Delhi  2024-01-01  152    153   151  26.509131  1.581413  123.401530   \n",
      "1  Delhi  2024-01-02  264    288   268  87.955853  1.242119  144.533790   \n",
      "2  Delhi  2024-01-03  307    344   357  94.469744  0.101480  198.520196   \n",
      "3  Delhi  2024-01-04  363    334   347  12.075618  1.097072   85.973585   \n",
      "4  Delhi  2024-01-05  237    266   250  51.046299  1.591834   47.938019   \n",
      "\n",
      "         SO2  \n",
      "0  25.062474  \n",
      "1   5.926302  \n",
      "2  32.786668  \n",
      "3   7.099955  \n",
      "4  28.140550  \n"
     ]
    }
   ],
   "source": [
    "#display first 5 rows\n",
    "print(\"first 5 rows\")\n",
    "print(df.head())"
   ]
  },
  {
   "cell_type": "code",
   "execution_count": 9,
   "metadata": {},
   "outputs": [
    {
     "name": "stdout",
     "output_type": "stream",
     "text": [
      "last 5 rows\n",
      "      City        Date  AQI  PM2.5  PM10        NO2        CO          O3  \\\n",
      "2557  Pune  2024-12-27  419    448   462  26.701714  1.553582   86.973954   \n",
      "2558  Pune  2024-12-28  252    202   182  19.920962  1.599821   41.939484   \n",
      "2559  Pune  2024-12-29  365    414   410  80.815702  1.919950   39.982167   \n",
      "2560  Pune  2024-12-30  253    269   285  66.231614  0.611800   63.966705   \n",
      "2561  Pune  2024-12-31   95    140   117  99.505459  0.122817  112.774765   \n",
      "\n",
      "            SO2  \n",
      "2557  44.263423  \n",
      "2558  20.545087  \n",
      "2559  22.646297  \n",
      "2560  10.580135  \n",
      "2561  30.814997  \n"
     ]
    }
   ],
   "source": [
    "#display last 5 rows\n",
    "print(\"last 5 rows\")\n",
    "print(df.tail())"
   ]
  },
  {
   "cell_type": "code",
   "execution_count": 10,
   "metadata": {},
   "outputs": [
    {
     "name": "stdout",
     "output_type": "stream",
     "text": [
      "summary statistics\n",
      "               AQI        PM2.5         PM10          NO2           CO  \\\n",
      "count  2562.000000  2562.000000  2562.000000  2562.000000  2562.000000   \n",
      "mean    277.635051   276.738486   275.988290    54.151115     1.037476   \n",
      "std     128.603738   131.015126   131.900856    25.744072     0.560294   \n",
      "min      50.000000     2.000000   -26.000000    10.036926     0.100100   \n",
      "25%     166.250000   165.000000   166.000000    32.025372     0.545341   \n",
      "50%     276.000000   274.500000   274.000000    53.606459     1.010095   \n",
      "75%     388.750000   388.000000   386.000000    76.322683     1.533300   \n",
      "max     499.000000   543.000000   559.000000    99.974242     1.999528   \n",
      "\n",
      "                O3          SO2  \n",
      "count  2562.000000  2562.000000  \n",
      "mean    104.832673    27.746349  \n",
      "std      54.878784    12.927527  \n",
      "min      10.045129     5.000524  \n",
      "25%      58.169877    16.685076  \n",
      "50%     104.345545    27.872017  \n",
      "75%     152.515574    38.878445  \n",
      "max     199.979607    49.976055  \n"
     ]
    }
   ],
   "source": [
    "#show the summary statistics for all numeric columns\n",
    "print(\"summary statistics\")\n",
    "print(df.describe())"
   ]
  },
  {
   "cell_type": "code",
   "execution_count": 17,
   "metadata": {},
   "outputs": [
    {
     "name": "stdout",
     "output_type": "stream",
     "text": [
      "mean AQI: City\n",
      "Bangalore    279.543716\n",
      "Chennai      274.314208\n",
      "Delhi        279.153005\n",
      "Hyderabad    280.355191\n",
      "Kolkata      265.901639\n",
      "Mumbai       287.797814\n",
      "Pune         276.379781\n",
      "Name: AQI, dtype: float64\n",
      "\n",
      "\n",
      "mean PM2.5: City\n",
      "Bangalore    278.469945\n",
      "Chennai      275.139344\n",
      "Delhi        279.898907\n",
      "Hyderabad    277.825137\n",
      "Kolkata      264.663934\n",
      "Mumbai       286.046448\n",
      "Pune         275.125683\n",
      "Name: PM2.5, dtype: float64\n",
      "\n",
      "\n",
      "mean PM10: City\n",
      "Bangalore    277.759563\n",
      "Chennai      273.265027\n",
      "Delhi        279.349727\n",
      "Hyderabad    276.456284\n",
      "Kolkata      263.644809\n",
      "Mumbai       286.669399\n",
      "Pune         274.773224\n",
      "Name: PM10, dtype: float64\n"
     ]
    }
   ],
   "source": [
    "#use numpy to compute mean of AQI, PM2.5, and PM10 for each city\n",
    "import numpy as np\n",
    "df_grouped = df.groupby('City')\n",
    "mean_aqi = df_grouped['AQI'].mean()\n",
    "mean_pm25 = df_grouped['PM2.5'].mean()\n",
    "mean_pm10 = df_grouped['PM10'].mean()\n",
    "\n",
    "print(\"mean AQI:\", mean_aqi)\n",
    "print(\"\\n\")\n",
    "print(\"mean PM2.5:\", mean_pm25)\n",
    "print(\"\\n\")\n",
    "print(\"mean PM10:\", mean_pm10)"
   ]
  },
  {
   "cell_type": "code",
   "execution_count": 22,
   "metadata": {},
   "outputs": [
    {
     "name": "stdout",
     "output_type": "stream",
     "text": [
      "All rows where city is delhi:\n",
      "\n",
      "      City        Date  AQI  PM2.5  PM10        NO2        CO          O3  \\\n",
      "0    Delhi  2024-01-01  152    153   151  26.509131  1.581413  123.401530   \n",
      "1    Delhi  2024-01-02  264    288   268  87.955853  1.242119  144.533790   \n",
      "2    Delhi  2024-01-03  307    344   357  94.469744  0.101480  198.520196   \n",
      "3    Delhi  2024-01-04  363    334   347  12.075618  1.097072   85.973585   \n",
      "4    Delhi  2024-01-05  237    266   250  51.046299  1.591834   47.938019   \n",
      "..     ...         ...  ...    ...   ...        ...       ...         ...   \n",
      "361  Delhi  2024-12-27  165    206   189  31.491659  0.957355  197.148035   \n",
      "362  Delhi  2024-12-28  496    511   505  18.473672  0.752960   63.661871   \n",
      "363  Delhi  2024-12-29  276    231   239  69.110209  1.661996   82.279801   \n",
      "364  Delhi  2024-12-30  356    316   341  26.805097  0.278669   77.767485   \n",
      "365  Delhi  2024-12-31  134    155   179  67.840719  0.472098  180.422007   \n",
      "\n",
      "           SO2  \n",
      "0    25.062474  \n",
      "1     5.926302  \n",
      "2    32.786668  \n",
      "3     7.099955  \n",
      "4    28.140550  \n",
      "..         ...  \n",
      "361  39.740561  \n",
      "362  22.582776  \n",
      "363  39.902533  \n",
      "364  39.086685  \n",
      "365  28.408574  \n",
      "\n",
      "[366 rows x 9 columns]\n"
     ]
    }
   ],
   "source": [
    "#display all rows where city is Delhi\n",
    "df_delhi = df[df['City'] == 'Delhi']\n",
    "print(\"All rows where city is delhi:\\n\")\n",
    "print(df_delhi)"
   ]
  },
  {
   "cell_type": "code",
   "execution_count": 23,
   "metadata": {},
   "outputs": [
    {
     "name": "stdout",
     "output_type": "stream",
     "text": [
      "first 10 rows containing only the columns City, AQI and PM2.5: \n",
      "\n",
      "    City  AQI  PM2.5\n",
      "0  Delhi  152    153\n",
      "1  Delhi  264    288\n",
      "2  Delhi  307    344\n",
      "3  Delhi  363    334\n",
      "4  Delhi  237    266\n",
      "5  Delhi  369    321\n",
      "6  Delhi  365    328\n",
      "7  Delhi  493    513\n",
      "8  Delhi  409    362\n",
      "9  Delhi  451    490\n"
     ]
    }
   ],
   "source": [
    "#display the first 10 rows, showing only the columns City, AQI and PM2.5\n",
    "print(\"first 10 rows containing only the columns City, AQI and PM2.5: \\n\")\n",
    "print(df.head(10)[['City', 'AQI', 'PM2.5']])"
   ]
  },
  {
   "cell_type": "code",
   "execution_count": 24,
   "metadata": {},
   "outputs": [
    {
     "name": "stdout",
     "output_type": "stream",
     "text": [
      "rows where AQI>300 and PM10>200: \n",
      "\n",
      "       City        Date  AQI  PM2.5  PM10        NO2        CO          O3  \\\n",
      "2     Delhi  2024-01-03  307    344   357  94.469744  0.101480  198.520196   \n",
      "3     Delhi  2024-01-04  363    334   347  12.075618  1.097072   85.973585   \n",
      "5     Delhi  2024-01-06  369    321   327  64.679037  0.423996   22.359803   \n",
      "6     Delhi  2024-01-07  365    328   347  44.687485  0.130336   53.869827   \n",
      "7     Delhi  2024-01-08  493    513   526  54.565922  0.165338  182.770876   \n",
      "...     ...         ...  ...    ...   ...        ...       ...         ...   \n",
      "2545   Pune  2024-12-15  305    302   294  66.795920  1.076536  144.653815   \n",
      "2547   Pune  2024-12-17  446    467   452  54.347401  1.789507   75.815871   \n",
      "2554   Pune  2024-12-24  368    332   357  49.869238  0.674453  197.461357   \n",
      "2557   Pune  2024-12-27  419    448   462  26.701714  1.553582   86.973954   \n",
      "2559   Pune  2024-12-29  365    414   410  80.815702  1.919950   39.982167   \n",
      "\n",
      "            SO2  \n",
      "2     32.786668  \n",
      "3      7.099955  \n",
      "5     47.699849  \n",
      "6     15.846146  \n",
      "7     16.645099  \n",
      "...         ...  \n",
      "2545  22.587510  \n",
      "2547  21.619858  \n",
      "2554  17.239430  \n",
      "2557  44.263423  \n",
      "2559  22.646297  \n",
      "\n",
      "[1133 rows x 9 columns]\n"
     ]
    }
   ],
   "source": [
    "#use numpy to filter out and display all rows where AQI is greater than 300 and PM10 is greater than 200\n",
    "import numpy as np\n",
    "df_filtered = df[(df['AQI'] > 300) & (df['PM10'] > 200)]\n",
    "print(\"rows where AQI>300 and PM10>200: \\n\")\n",
    "print(df_filtered)"
   ]
  },
  {
   "cell_type": "code",
   "execution_count": null,
   "metadata": {},
   "outputs": [],
   "source": []
  }
 ],
 "metadata": {
  "kernelspec": {
   "display_name": "base",
   "language": "python",
   "name": "python3"
  },
  "language_info": {
   "codemirror_mode": {
    "name": "ipython",
    "version": 3
   },
   "file_extension": ".py",
   "mimetype": "text/x-python",
   "name": "python",
   "nbconvert_exporter": "python",
   "pygments_lexer": "ipython3",
   "version": "3.12.4"
  }
 },
 "nbformat": 4,
 "nbformat_minor": 2
}
