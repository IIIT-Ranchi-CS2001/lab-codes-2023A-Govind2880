{
 "cells": [
  {
   "cell_type": "code",
   "execution_count": 1,
   "id": "68812017-7ce8-45ad-87f1-6f3f0adee6fe",
   "metadata": {},
   "outputs": [
    {
     "name": "stdout",
     "output_type": "stream",
     "text": [
      "mAHA bHARAT\n",
      "Bharat\n",
      "Maha Bharat\n",
      "BharatBharatBharat\n",
      "Mera Bharat\n",
      "Mera Bharat Mahan\n"
     ]
    }
   ],
   "source": [
    "S1 = \"Maha Bharat\"\n",
    "\n",
    "\n",
    "result1 = S1.swapcase()\n",
    "\n",
    "print(result1)\n",
    "\n",
    "result2=S1[5:]\n",
    "print(result2)\n",
    "print(S1)\n",
    "result3=result2*3\n",
    "print(result3)\n",
    "result4=S1.replace(\"Maha\",\"Mera\")\n",
    "print(result4)\n",
    "print(f\"{result4} Mahan\")"
   ]
  },
  {
   "cell_type": "code",
   "execution_count": 3,
   "id": "3b8c31b9-9919-4783-bf0c-258371517cca",
   "metadata": {},
   "outputs": [
    {
     "name": "stdout",
     "output_type": "stream",
     "text": [
      "17\n",
      "14\n",
      "3\n",
      "Ta Ta Black Sheep\n"
     ]
    }
   ],
   "source": [
    "S=\"Ba Ba Black Sheep\"\n",
    "result1=len(S)\n",
    "print(result1)\n",
    "result2=S.find('e')\n",
    "result3=S.count('a')\n",
    "print(result2)\n",
    "print(result3)\n",
    "result4=S.replace(\"Ba\",\"Ta\")\n",
    "print(result4)"
   ]
  },
  {
   "cell_type": "code",
   "execution_count": 5,
   "id": "35f3e8eb-493d-4fdd-8950-988f25f4ef37",
   "metadata": {},
   "outputs": [
    {
     "name": "stdin",
     "output_type": "stream",
     "text": [
      "Enter a string :-  hello world\n"
     ]
    },
    {
     "name": "stdout",
     "output_type": "stream",
     "text": [
      "Not a pal\n"
     ]
    }
   ],
   "source": [
    "a=input(\"Enter a string :- \")\n",
    "if(a[::-1] == a):\n",
    "    print(\"Pal\")\n",
    "else:\n",
    "    print(\"Not a pal\")"
   ]
  },
  {
   "cell_type": "code",
   "execution_count": 2,
   "id": "e00efda1-02fa-45e8-a513-4060517e5487",
   "metadata": {},
   "outputs": [],
   "source": [
    "import pandas as pd"
   ]
  },
  {
   "cell_type": "code",
   "execution_count": 5,
   "id": "040a14f2-8055-4af3-91fb-976ba2ec08ff",
   "metadata": {},
   "outputs": [
    {
     "name": "stdin",
     "output_type": "stream",
     "text": [
      "Enter the student's name:  govind\n",
      "Enter the roll number:  52\n",
      "Enter the marks secured in Mathematics out of 100:  98\n"
     ]
    },
    {
     "name": "stdout",
     "output_type": "stream",
     "text": [
      "\n",
      "Student Details:\n"
     ]
    },
    {
     "data": {
      "text/html": [
       "<div>\n",
       "<style scoped>\n",
       "    .dataframe tbody tr th:only-of-type {\n",
       "        vertical-align: middle;\n",
       "    }\n",
       "\n",
       "    .dataframe tbody tr th {\n",
       "        vertical-align: top;\n",
       "    }\n",
       "\n",
       "    .dataframe thead th {\n",
       "        text-align: right;\n",
       "    }\n",
       "</style>\n",
       "<table border=\"1\" class=\"dataframe\">\n",
       "  <thead>\n",
       "    <tr style=\"text-align: right;\">\n",
       "      <th></th>\n",
       "      <th>Name</th>\n",
       "      <th>RollNo.</th>\n",
       "      <th>Marks</th>\n",
       "      <th>Grade</th>\n",
       "      <th>Remark</th>\n",
       "    </tr>\n",
       "  </thead>\n",
       "  <tbody>\n",
       "    <tr>\n",
       "      <th>0</th>\n",
       "      <td>govind</td>\n",
       "      <td>52</td>\n",
       "      <td>98.0</td>\n",
       "      <td>10</td>\n",
       "      <td>OUTSTANDING</td>\n",
       "    </tr>\n",
       "  </tbody>\n",
       "</table>\n",
       "</div>"
      ],
      "text/plain": [
       "     Name RollNo.  Marks  Grade       Remark\n",
       "0  govind      52   98.0     10  OUTSTANDING"
      ]
     },
     "execution_count": 5,
     "metadata": {},
     "output_type": "execute_result"
    }
   ],
   "source": [
    "name = input(\"Enter the student's name: \")\n",
    "roll_number = input(\"Enter the roll number: \")\n",
    "marks = float(input(\"Enter the marks secured in Mathematics out of 100: \"))\n",
    "\n",
    "\n",
    "if marks >= 90:\n",
    "    grade_point = 10\n",
    "    remark = \"OUTSTANDING\"\n",
    "elif 80 <= marks < 90:\n",
    "    grade_point = 9\n",
    "    remark = \"VERY GOOD\"\n",
    "elif 70 <= marks < 80:\n",
    "    grade_point = 8\n",
    "    remark = \"GOOD\"\n",
    "elif 60 <= marks < 70:\n",
    "    grade_point = 7\n",
    "    remark = \"AVERAGE\"\n",
    "elif 50 <= marks < 60:\n",
    "    grade_point = 6\n",
    "    remark = \"PASS\"\n",
    "else:\n",
    "    grade_point = 0\n",
    "    remark = \"FAIL\"\n",
    "\n",
    "\n",
    "print(\"\\nStudent Details:\")\n",
    "student_data = [\n",
    "    {'Name': name, 'RollNo.': roll_number, 'Marks': marks, 'Grade': grade_point, 'Remark': remark}\n",
    "]\n",
    "data = pd.DataFrame(student_data)\n",
    "data"
   ]
  },
  {
   "cell_type": "code",
   "execution_count": 15,
   "id": "a089f8fb-6d96-4391-a15e-9b37b486d4df",
   "metadata": {},
   "outputs": [],
   "source": [
    "import pandas as pd\n",
    "\n",
    "data = pd.DataFrame(columns=['Name', 'RollNo.', 'Marks', 'Grade', 'Remark'])"
   ]
  },
  {
   "cell_type": "code",
   "execution_count": 23,
   "id": "eb013bb9-7a8f-4e94-9c8f-d87c72313c0b",
   "metadata": {},
   "outputs": [
    {
     "name": "stdin",
     "output_type": "stream",
     "text": [
      "Enter Name:  Sudha\n",
      "Enter Roll Number:  21\n",
      "Enter Marks:  76\n"
     ]
    },
    {
     "data": {
      "text/html": [
       "<div>\n",
       "<style scoped>\n",
       "    .dataframe tbody tr th:only-of-type {\n",
       "        vertical-align: middle;\n",
       "    }\n",
       "\n",
       "    .dataframe tbody tr th {\n",
       "        vertical-align: top;\n",
       "    }\n",
       "\n",
       "    .dataframe thead th {\n",
       "        text-align: right;\n",
       "    }\n",
       "</style>\n",
       "<table border=\"1\" class=\"dataframe\">\n",
       "  <thead>\n",
       "    <tr style=\"text-align: right;\">\n",
       "      <th></th>\n",
       "      <th>Name</th>\n",
       "      <th>RollNo.</th>\n",
       "      <th>Marks</th>\n",
       "      <th>Grade</th>\n",
       "      <th>Remark</th>\n",
       "    </tr>\n",
       "  </thead>\n",
       "  <tbody>\n",
       "    <tr>\n",
       "      <th>0</th>\n",
       "      <td>akhilesh</td>\n",
       "      <td>60</td>\n",
       "      <td>65</td>\n",
       "      <td>7</td>\n",
       "      <td>bad</td>\n",
       "    </tr>\n",
       "    <tr>\n",
       "      <th>1</th>\n",
       "      <td>akhilesh</td>\n",
       "      <td>60</td>\n",
       "      <td>90</td>\n",
       "      <td>10</td>\n",
       "      <td>OUTSTANDING</td>\n",
       "    </tr>\n",
       "    <tr>\n",
       "      <th>2</th>\n",
       "      <td>Sudha</td>\n",
       "      <td>21</td>\n",
       "      <td>76</td>\n",
       "      <td>8</td>\n",
       "      <td>GOOD</td>\n",
       "    </tr>\n",
       "  </tbody>\n",
       "</table>\n",
       "</div>"
      ],
      "text/plain": [
       "       Name RollNo. Marks Grade       Remark\n",
       "0  akhilesh      60    65     7          bad\n",
       "1  akhilesh      60    90    10  OUTSTANDING\n",
       "2     Sudha      21    76     8         GOOD"
      ]
     },
     "execution_count": 23,
     "metadata": {},
     "output_type": "execute_result"
    }
   ],
   "source": [
    "\n",
    "\n",
    "def add_row():\n",
    "    name = input(\"Enter Name: \")\n",
    "    roll_number = input(\"Enter Roll Number: \")\n",
    "    marks = int(input(\"Enter Marks: \"))\n",
    "    if marks >= 90:\n",
    "        grade_point = 10\n",
    "        remark = \"OUTSTANDING\"\n",
    "    elif 80 <= marks < 90:\n",
    "        grade_point = 9\n",
    "        remark = \"VERY GOOD\"\n",
    "    elif 70 <= marks < 80:\n",
    "        grade_point = 8\n",
    "        remark = \"GOOD\"\n",
    "    elif 60 <= marks < 70:\n",
    "        grade_point = 7\n",
    "        remark = \"AVERAGE\"\n",
    "    elif 50 <= marks < 60:\n",
    "        grade_point = 6\n",
    "        remark = \"PASS\"\n",
    "    else:\n",
    "        grade_point = 0\n",
    "        remark = \"FAIL\"\n",
    "    \n",
    "    new_row = pd.DataFrame({\n",
    "        'Name': [name],\n",
    "        'RollNo.': [roll_number],\n",
    "        'Marks': [marks],\n",
    "        'Grade': [grade_point],\n",
    "        'Remark': [remark]\n",
    "    })\n",
    "    \n",
    "    global data\n",
    "    data = pd.concat([data, new_row], ignore_index=True)\n",
    "\n",
    "add_row()\n",
    "\n",
    "data\n"
   ]
  },
  {
   "cell_type": "code",
   "execution_count": 9,
   "id": "20a870f9-3719-4765-91e8-18e30844f3f5",
   "metadata": {},
   "outputs": [
    {
     "name": "stdin",
     "output_type": "stream",
     "text": [
      "Enter coefficient a:  4\n",
      "Enter coefficient b:  3\n",
      "Enter coefficient c:  2\n"
     ]
    },
    {
     "name": "stdout",
     "output_type": "stream",
     "text": [
      "The equation has two complex roots: R1 = -0.375 + 0.5994789404140899i, R2 = -0.375 - 0.5994789404140899i\n"
     ]
    }
   ],
   "source": [
    "import math\n",
    "\n",
    "\n",
    "a = int(input(\"Enter coefficient a: \"))\n",
    "b = int(input(\"Enter coefficient b: \"))\n",
    "c = int(input(\"Enter coefficient c: \"))\n",
    "\n",
    "\n",
    "discriminant = b**2 - 4*a*c\n",
    "\n",
    "\n",
    "if discriminant > 0:\n",
    "    \n",
    "    R1 = (-b + math.sqrt(discriminant)) / (2 * a)\n",
    "    R2 = (-b - math.sqrt(discriminant)) / (2 * a)\n",
    "    print(f\"The equation has two distinct real roots: R1 = {R1}, R2 = {R2}\")\n",
    "elif discriminant == 0:\n",
    "   \n",
    "    R1 = R2 = -b / (2 * a)\n",
    "    print(f\"The equation has one real repeated root: R1 = R2 = {R1}\")\n",
    "else:\n",
    "   \n",
    "    real_part = -b / (2 * a)\n",
    "    imaginary_part = math.sqrt(-discriminant) / (2 * a)\n",
    "    print(f\"The equation has two complex roots: R1 = {real_part} + {imaginary_part}i, R2 = {real_part} - {imaginary_part}i\")\n"
   ]
  },
  {
   "cell_type": "code",
   "execution_count": null,
   "id": "bdcbaaa2-64d8-478e-ba0b-c0dda542bc54",
   "metadata": {},
   "outputs": [],
   "source": []
  }
 ],
 "metadata": {
  "kernelspec": {
   "display_name": "Python 3 (ipykernel)",
   "language": "python",
   "name": "python3"
  },
  "language_info": {
   "codemirror_mode": {
    "name": "ipython",
    "version": 3
   },
   "file_extension": ".py",
   "mimetype": "text/x-python",
   "name": "python",
   "nbconvert_exporter": "python",
   "pygments_lexer": "ipython3",
   "version": "3.12.4"
  }
 },
 "nbformat": 4,
 "nbformat_minor": 5
}
