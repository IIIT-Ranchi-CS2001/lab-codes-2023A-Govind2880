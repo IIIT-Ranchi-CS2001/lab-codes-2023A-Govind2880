{
 "cells": [
  {
   "cell_type": "code",
   "execution_count": 1,
   "id": "da636441-ed66-4e99-a709-7a92815608b6",
   "metadata": {},
   "outputs": [
    {
     "name": "stdin",
     "output_type": "stream",
     "text": [
      "Enter a sentence:  hi people malayalam\n"
     ]
    },
    {
     "name": "stdout",
     "output_type": "stream",
     "text": [
      "Number of palindrome words: 1\n"
     ]
    }
   ],
   "source": [
    "#Find the number of palindrome words in the given sentence without defining any new function (feel free to use python’s in-built functions).\n",
    "string = input(\"Enter a sentence: \")\n",
    "words = string.lower().split()\n",
    "palindrome_count = sum(1 for word in words if word == word[::-1])\n",
    "print(f\"Number of palindrome words: {palindrome_count}\")      "
   ]
  },
  {
   "cell_type": "code",
   "execution_count": 4,
   "id": "65fdee36-0a7f-4650-9d33-f3910cf1718c",
   "metadata": {},
   "outputs": [
    {
     "name": "stdin",
     "output_type": "stream",
     "text": [
      "Enter space-separated integers:  1 3 2 45 6\n"
     ]
    },
    {
     "name": "stdout",
     "output_type": "stream",
     "text": [
      "Mean: 11.4\n",
      "Median: 3\n",
      "Mode: [1, 2, 3, 6, 45]\n"
     ]
    }
   ],
   "source": [
    "#Create a list of int using list comprehension [multiple input from keyboard].  Find the mean, median, and mode of the given list (usage of specific modules such as statistics is strictly prohibited. Lab problems are for you to build-up logic and strengthen your understanding of the topic & its concepts).\n",
    "nums = [int(x) for x in input(\"Enter space-separated integers: \").split()]\n",
    "\n",
    "mean = sum(nums) / len(nums)\n",
    "\n",
    "nums.sort()\n",
    "n = len(nums)\n",
    "if n % 2 == 0:\n",
    "    median = (nums[n//2 - 1] + nums[n//2]) / 2\n",
    "else:\n",
    "    median = nums[n//2]\n",
    "\n",
    "freq = {}\n",
    "for num in nums:\n",
    "    freq[num] = freq.get(num, 0) + 1\n",
    "\n",
    "max_count = max(freq.values())\n",
    "modes = [k for k, v in freq.items() if v == max_count]\n",
    "\n",
    "if len(modes) == 1:\n",
    "    mode = modes[0]\n",
    "else:\n",
    "    mode = modes  \n",
    "\n",
    "print(f\"Mean: {mean}\")\n",
    "print(f\"Median: {median}\")\n",
    "print(f\"Mode: {mode}\")\n"
   ]
  },
  {
   "cell_type": "code",
   "execution_count": 3,
   "id": "1cc5b091-6d03-40fc-8039-b6e8a282acc6",
   "metadata": {},
   "outputs": [
    {
     "name": "stdout",
     "output_type": "stream",
     "text": [
      "['CS2001:Python', 'CS2005:C++', 'CS2007:Algorithms', 'CS2009:Java']\n"
     ]
    }
   ],
   "source": [
    "#Generate 2 lists (course code and course name). create a new list with both course code and name like[\"CS1001:Python\",...]\n",
    "course_codes = [\"CS2001\", \"CS2005\", \"CS2007\", \"CS2009\"]\n",
    "course_names = [\"Python\", \"C++\", \"Algorithms\", \"Java\"]\n",
    "combined_list = [f\"{code}:{name}\" for code, name in zip(course_codes, course_names)]\n",
    "print(combined_list)\n"
   ]
  },
  {
   "cell_type": "code",
   "execution_count": 2,
   "id": "ac43b4b9-9111-4758-be8a-59c875a60dde",
   "metadata": {},
   "outputs": [
    {
     "name": "stdout",
     "output_type": "stream",
     "text": [
      "All artists of the class: {'Alice', 'Charlie', 'Eva', 'Frank', 'Bob', 'David'}\n",
      "Allrounders of the class: {'Eva', 'Charlie'}\n",
      "Dancers but not singers: {'David', 'Frank'}\n",
      "Singers but not dancers: {'Alice', 'Bob'}\n",
      "Dancers but not singers cum singers but not dancers: {'Alice', 'Frank', 'David', 'Bob'}\n"
     ]
    }
   ],
   "source": [
    "#Generate two sets – first for all singers and second for all dancers of the class using set comprehension. Perform set operations to generate the following sets \n",
    "students = [\"Aishary\", \"Aditya\", \"Abhinav\", \"Deepnedra\", \"Tarun\", \"Swayam\", \"Jassie\"]\n",
    "singers_list = [\"Alice\", \"Bob\", \"Charlie\", \"Eva\"]\n",
    "dancers_list = [\"Charlie\", \"David\", \"Eva\", \"Frank\"]\n",
    "\n",
    "singers = {student for student in singers_list}\n",
    "dancers = {student for student in dancers_list}\n",
    "\n",
    "all_artists = singers | dancers\n",
    "\n",
    "allrounders = singers & dancers\n",
    "\n",
    "dancers_not_singers = dancers - singers\n",
    "\n",
    "singers_not_dancers = singers - dancers\n",
    "\n",
    "dancers_xor_singers = dancers ^ singers\n",
    "\n",
    "print(\"All artists of the class:\", all_artists)\n",
    "print(\"Allrounders of the class:\", allrounders)\n",
    "print(\"Dancers but not singers:\", dancers_not_singers)\n",
    "print(\"Singers but not dancers:\", singers_not_dancers)\n",
    "print(\"Dancers but not singers cum singers but not dancers:\", dancers_xor_singers)\n"
   ]
  },
  {
   "cell_type": "code",
   "execution_count": null,
   "id": "419c3b72-3bc1-4ce5-b611-db788e6e213c",
   "metadata": {},
   "outputs": [],
   "source": []
  }
 ],
 "metadata": {
  "kernelspec": {
   "display_name": "Python 3 (ipykernel)",
   "language": "python",
   "name": "python3"
  },
  "language_info": {
   "codemirror_mode": {
    "name": "ipython",
    "version": 3
   },
   "file_extension": ".py",
   "mimetype": "text/x-python",
   "name": "python",
   "nbconvert_exporter": "python",
   "pygments_lexer": "ipython3",
   "version": "3.12.4"
  }
 },
 "nbformat": 4,
 "nbformat_minor": 5
}
