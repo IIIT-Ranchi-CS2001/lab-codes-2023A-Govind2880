{
 "cells": [
  {
   "cell_type": "code",
   "execution_count": 109,
   "id": "cf4cf679-d274-44c7-a59f-fa81a269b675",
   "metadata": {},
   "outputs": [],
   "source": [
    "import pandas as pd\n",
    "import numpy as np"
   ]
  },
  {
   "cell_type": "code",
   "execution_count": 159,
   "id": "b239c0df-dbbb-4233-838a-405dd8c4d091",
   "metadata": {},
   "outputs": [],
   "source": [
    "class triangle:\n",
    "    def __init__(self):\n",
    "        self.perimeter = None\n",
    "        self.area = None\n",
    "        self.cosines = None\n",
    "\n",
    "    def calculate(self, a,b,c):\n",
    "        self.perimeter = a+b+c\n",
    "        s = self.perimeter/2\n",
    "        self.area = (s*(s-a)*(s-b)*(s-c))**(1/2)\n",
    "        self.cosines = [((a**2+b**2-c**2)/2*a*b),((a**2-b**2+c**2)/2*a*c),((-a**2+b**2+c**2)/2*b*c)]\n",
    "        if(a+b<=c or a+c<=b or b+c<=a):\n",
    "            print(\"Given triangle doesn't exist\")\n",
    "            self.area = None\n",
    "            self.perimeter = None\n",
    "            self.cosines = None\n",
    "            "
   ]
  },
  {
   "cell_type": "code",
   "execution_count": 194,
   "id": "d96158d9-9ff5-42f8-9279-aee67872574a",
   "metadata": {},
   "outputs": [],
   "source": [
    "tri = triangle()"
   ]
  },
  {
   "cell_type": "code",
   "execution_count": 196,
   "id": "31988b80-4092-45d1-a0b4-049aeb525166",
   "metadata": {},
   "outputs": [
    {
     "name": "stdin",
     "output_type": "stream",
     "text": [
      " 4 5 6\n"
     ]
    }
   ],
   "source": [
    "a,b,c = map(float, input().split())"
   ]
  },
  {
   "cell_type": "code",
   "execution_count": 198,
   "id": "5b80e68e-b06a-4888-a892-2e6f30a5104b",
   "metadata": {},
   "outputs": [],
   "source": [
    "tri.calculate(a,b,c)"
   ]
  },
  {
   "cell_type": "code",
   "execution_count": 200,
   "id": "cf4d182b-1986-47d5-aee0-fdd351ee235b",
   "metadata": {},
   "outputs": [
    {
     "data": {
      "text/plain": [
       "9.921567416492215"
      ]
     },
     "execution_count": 200,
     "metadata": {},
     "output_type": "execute_result"
    }
   ],
   "source": [
    "tri.area"
   ]
  },
  {
   "cell_type": "code",
   "execution_count": 202,
   "id": "a6547857-abee-4576-93de-4c4b5794b958",
   "metadata": {},
   "outputs": [
    {
     "data": {
      "text/plain": [
       "15.0"
      ]
     },
     "execution_count": 202,
     "metadata": {},
     "output_type": "execute_result"
    }
   ],
   "source": [
    "tri.perimeter"
   ]
  },
  {
   "cell_type": "code",
   "execution_count": 204,
   "id": "360171fe-1b58-488a-b7dc-a8d6161d9d95",
   "metadata": {},
   "outputs": [
    {
     "data": {
      "text/plain": [
       "[50.0, 324.0, 675.0]"
      ]
     },
     "execution_count": 204,
     "metadata": {},
     "output_type": "execute_result"
    }
   ],
   "source": [
    "tri.cosines"
   ]
  },
  {
   "cell_type": "code",
   "execution_count": 206,
   "id": "7125e199-c655-4a02-beae-2c5bb466dd78",
   "metadata": {},
   "outputs": [
    {
     "name": "stdin",
     "output_type": "stream",
     "text": [
      "Enter temp in Celsius:  36\n"
     ]
    },
    {
     "name": "stdout",
     "output_type": "stream",
     "text": [
      "Temp in farheneit is 96.8℉\n"
     ]
    }
   ],
   "source": [
    "a = int(input(\"Enter temp in Celsius: \"))\n",
    "print(f\"Temp in farheneit is {(a*9/5)+32}℉\")"
   ]
  },
  {
   "cell_type": "code",
   "execution_count": null,
   "id": "d99e535a-8014-49c7-a3ae-77ab893f1b08",
   "metadata": {},
   "outputs": [],
   "source": []
  }
 ],
 "metadata": {
  "kernelspec": {
   "display_name": "Python 3 (ipykernel)",
   "language": "python",
   "name": "python3"
  },
  "language_info": {
   "codemirror_mode": {
    "name": "ipython",
    "version": 3
   },
   "file_extension": ".py",
   "mimetype": "text/x-python",
   "name": "python",
   "nbconvert_exporter": "python",
   "pygments_lexer": "ipython3",
   "version": "3.12.4"
  }
 },
 "nbformat": 4,
 "nbformat_minor": 5
}
